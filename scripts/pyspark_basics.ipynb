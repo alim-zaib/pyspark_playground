{
 "cells": [
  {
   "cell_type": "markdown",
   "metadata": {},
   "source": [
    "# PySpark Playground\n",
    "\n"
   ]
  },
  {
   "cell_type": "markdown",
   "metadata": {},
   "source": [
    "**Import libraries, create spark session**"
   ]
  },
  {
   "cell_type": "code",
   "execution_count": 5,
   "metadata": {},
   "outputs": [],
   "source": [
    "from pyspark.sql import SparkSession\n",
    "from pyspark.sql.functions import col, avg, count, when\n",
    "\n",
    "# create spark session\n",
    "spark = SparkSession.builder.appName(\"pyspark_playground\").getOrCreate()"
   ]
  },
  {
   "cell_type": "markdown",
   "metadata": {},
   "source": [
    "**Load data, check schema and first few rows**"
   ]
  },
  {
   "cell_type": "code",
   "execution_count": 6,
   "metadata": {},
   "outputs": [
    {
     "name": "stdout",
     "output_type": "stream",
     "text": [
      "root\n",
      " |-- InvoiceNo: string (nullable = true)\n",
      " |-- StockCode: string (nullable = true)\n",
      " |-- Description: string (nullable = true)\n",
      " |-- Quantity: integer (nullable = true)\n",
      " |-- InvoiceDate: string (nullable = true)\n",
      " |-- UnitPrice: double (nullable = true)\n",
      " |-- CustomerID: integer (nullable = true)\n",
      " |-- Country: string (nullable = true)\n",
      "\n",
      "+---------+---------+--------------------+--------+--------------+---------+----------+--------------+\n",
      "|InvoiceNo|StockCode|         Description|Quantity|   InvoiceDate|UnitPrice|CustomerID|       Country|\n",
      "+---------+---------+--------------------+--------+--------------+---------+----------+--------------+\n",
      "|   536365|   85123A|WHITE HANGING HEA...|       6|12/1/2010 8:26|     2.55|     17850|United Kingdom|\n",
      "|   536365|    71053| WHITE METAL LANTERN|       6|12/1/2010 8:26|     3.39|     17850|United Kingdom|\n",
      "|   536365|   84406B|CREAM CUPID HEART...|       8|12/1/2010 8:26|     2.75|     17850|United Kingdom|\n",
      "|   536365|   84029G|KNITTED UNION FLA...|       6|12/1/2010 8:26|     3.39|     17850|United Kingdom|\n",
      "|   536365|   84029E|RED WOOLLY HOTTIE...|       6|12/1/2010 8:26|     3.39|     17850|United Kingdom|\n",
      "+---------+---------+--------------------+--------+--------------+---------+----------+--------------+\n",
      "only showing top 5 rows\n",
      "\n"
     ]
    }
   ],
   "source": [
    "# load csv file with headers and schema inferred\n",
    "df = spark.read.csv(\"data/data.csv\", header=True, inferSchema=True)\n",
    "\n",
    "# check schema like pandas df.info()\n",
    "df.printSchema()\n",
    "\n",
    "# show first 5 rows like pandas df.head()\n",
    "df.show(5)"
   ]
  },
  {
   "cell_type": "markdown",
   "metadata": {},
   "source": [
    "**Performing operations**"
   ]
  },
  {
   "cell_type": "code",
   "execution_count": 7,
   "metadata": {},
   "outputs": [
    {
     "name": "stdout",
     "output_type": "stream",
     "text": [
      "+---------+--------------------+\n",
      "|InvoiceNo|         Description|\n",
      "+---------+--------------------+\n",
      "|   536365|WHITE HANGING HEA...|\n",
      "|   536365| WHITE METAL LANTERN|\n",
      "|   536365|CREAM CUPID HEART...|\n",
      "|   536365|KNITTED UNION FLA...|\n",
      "|   536365|RED WOOLLY HOTTIE...|\n",
      "+---------+--------------------+\n",
      "only showing top 5 rows\n",
      "\n"
     ]
    }
   ],
   "source": [
    "# select specific columns\n",
    "df.select(\"InvoiceNo\", \"Description\").show(5)"
   ]
  },
  {
   "cell_type": "code",
   "execution_count": 8,
   "metadata": {},
   "outputs": [
    {
     "name": "stdout",
     "output_type": "stream",
     "text": [
      "+---------+---------+--------------------+--------+--------------+---------+----------+--------------+\n",
      "|InvoiceNo|StockCode|         Description|Quantity|   InvoiceDate|UnitPrice|CustomerID|       Country|\n",
      "+---------+---------+--------------------+--------+--------------+---------+----------+--------------+\n",
      "|   536378|    21212|PACK OF 72 RETROS...|     120|12/1/2010 9:37|     0.42|     14688|United Kingdom|\n",
      "|   536387|    79321|       CHILLI LIGHTS|     192|12/1/2010 9:58|     3.82|     16029|United Kingdom|\n",
      "|   536387|    22780|LIGHT GARLAND BUT...|     192|12/1/2010 9:58|     3.37|     16029|United Kingdom|\n",
      "|   536387|    22779|WOODEN OWLS LIGHT...|     192|12/1/2010 9:58|     3.37|     16029|United Kingdom|\n",
      "|   536387|    22466|FAIRY TALE COTTAG...|     432|12/1/2010 9:58|     1.45|     16029|United Kingdom|\n",
      "+---------+---------+--------------------+--------+--------------+---------+----------+--------------+\n",
      "only showing top 5 rows\n",
      "\n"
     ]
    }
   ],
   "source": [
    "# filter rows where Quantity > 100\n",
    "filtered_df = df.filter(col(\"Quantity\") > 100)\n",
    "filtered_df.show(5)"
   ]
  },
  {
   "cell_type": "code",
   "execution_count": 9,
   "metadata": {},
   "outputs": [
    {
     "name": "stdout",
     "output_type": "stream",
     "text": [
      "+--------------------+------------------+\n",
      "|             Country|average_unit_price|\n",
      "+--------------------+------------------+\n",
      "|              Sweden|3.9108874458874445|\n",
      "|           Singapore|109.64580786026201|\n",
      "|             Germany|3.9669299631384733|\n",
      "|              France| 5.028864087881271|\n",
      "|              Greece| 4.885547945205479|\n",
      "|             Belgium|3.6443354277428774|\n",
      "|             Finland| 5.448705035971225|\n",
      "|               Italy| 4.831120797011212|\n",
      "|                EIRE| 5.911077354807258|\n",
      "|           Lithuania|2.8411428571428576|\n",
      "|              Norway|  6.01202578268877|\n",
      "|               Spain| 4.987544413738649|\n",
      "|             Denmark|  3.25694087403599|\n",
      "|           Hong Kong| 42.50520833333331|\n",
      "|             Iceland| 2.644010989010989|\n",
      "|              Israel| 3.633131313131316|\n",
      "|     Channel Islands| 4.932124010554093|\n",
      "|              Cyprus| 6.302363344051452|\n",
      "|         Switzerland| 3.403441558441565|\n",
      "|United Arab Emirates|3.3807352941176467|\n",
      "+--------------------+------------------+\n",
      "only showing top 20 rows\n",
      "\n"
     ]
    }
   ],
   "source": [
    "# group by Country and calculate avg for UnitPrice\n",
    "grouped_df = df.groupBy(\"Country\").agg(avg(\"UnitPrice\").alias(\"average_unit_price\"))\n",
    "grouped_df.show()"
   ]
  },
  {
   "cell_type": "markdown",
   "metadata": {},
   "source": [
    "**Handle missing data**"
   ]
  },
  {
   "cell_type": "code",
   "execution_count": null,
   "metadata": {},
   "outputs": [],
   "source": [
    "# fill missing values in CustomerID with 0\n",
    "df_filled = df.fillna({\"CustomerID\": 0})\n",
    "df_filled.show(5)"
   ]
  },
  {
   "cell_type": "markdown",
   "metadata": {},
   "source": [
    "**Adding new columns**"
   ]
  },
  {
   "cell_type": "code",
   "execution_count": null,
   "metadata": {},
   "outputs": [],
   "source": [
    "# create new column based on condition (is UnitPrice > 2.5)\n",
    "df_with_new_col = df.withColumn(\"is_expensive\", when(col(\"UnitPrice\") > 3, True).otherwise(False))\n",
    "df_with_new_col.show(5)"
   ]
  }
 ],
 "metadata": {
  "kernelspec": {
   "display_name": "Python 3",
   "language": "python",
   "name": "python3"
  },
  "language_info": {
   "codemirror_mode": {
    "name": "ipython",
    "version": 3
   },
   "file_extension": ".py",
   "mimetype": "text/x-python",
   "name": "python",
   "nbconvert_exporter": "python",
   "pygments_lexer": "ipython3",
   "version": "3.9.10"
  }
 },
 "nbformat": 4,
 "nbformat_minor": 2
}
